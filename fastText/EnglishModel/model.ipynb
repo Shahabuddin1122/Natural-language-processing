{
 "cells": [
  {
   "cell_type": "code",
   "id": "initial_id",
   "metadata": {
    "collapsed": true,
    "ExecuteTime": {
     "end_time": "2024-06-24T06:17:12.899110Z",
     "start_time": "2024-06-24T06:17:12.737468Z"
    }
   },
   "source": "import fasttext",
   "outputs": [],
   "execution_count": 1
  },
  {
   "metadata": {
    "ExecuteTime": {
     "end_time": "2024-06-24T06:21:06.710905Z",
     "start_time": "2024-06-24T06:21:05.899192Z"
    }
   },
   "cell_type": "code",
   "source": [
    "# Train the model\n",
    "model = fasttext.train_supervised(input=\"train.txt\", epoch=25, lr=1.0, wordNgrams=2, verbose=2, minCount=1)\n"
   ],
   "id": "24c3ca4e797aebdc",
   "outputs": [],
   "execution_count": 2
  },
  {
   "metadata": {
    "ExecuteTime": {
     "end_time": "2024-06-24T06:21:18.038562Z",
     "start_time": "2024-06-24T06:21:16.440516Z"
    }
   },
   "cell_type": "code",
   "source": "model.save_model(\"model_fasttext.bin\")\n",
   "id": "3da4a72e3e36e443",
   "outputs": [],
   "execution_count": 3
  },
  {
   "metadata": {
    "ExecuteTime": {
     "end_time": "2024-06-24T06:21:28.813306Z",
     "start_time": "2024-06-24T06:21:27.348683Z"
    }
   },
   "cell_type": "code",
   "source": [
    "# Load the model\n",
    "model = fasttext.load_model(\"model_fasttext.bin\")\n"
   ],
   "id": "f3820939a0890512",
   "outputs": [],
   "execution_count": 4
  },
  {
   "metadata": {
    "ExecuteTime": {
     "end_time": "2024-06-24T06:21:37.073948Z",
     "start_time": "2024-06-24T06:21:37.063693Z"
    }
   },
   "cell_type": "code",
   "source": [
    "# Predict using the model\n",
    "result = model.predict(\"I really enjoyed this movie\")\n",
    "print(result)  # Should output something like (['__label__positive'], array([0.85])) depending on your training data\n"
   ],
   "id": "1c85d69f4dceff12",
   "outputs": [
    {
     "name": "stdout",
     "output_type": "stream",
     "text": [
      "(('__label__positive',), array([0.55516559]))\n"
     ]
    }
   ],
   "execution_count": 5
  },
  {
   "metadata": {
    "ExecuteTime": {
     "end_time": "2024-06-24T06:22:57.006043Z",
     "start_time": "2024-06-24T06:22:56.998176Z"
    }
   },
   "cell_type": "code",
   "source": [
    "# Get word vectors\n",
    "word_vector = model.get_word_vector(\"movie\")\n",
    "print(word_vector)\n"
   ],
   "id": "7ba549889a2720db",
   "outputs": [
    {
     "name": "stdout",
     "output_type": "stream",
     "text": [
      "[-2.3567473e-04 -1.5800370e-02 -5.0385096e-03 -1.7664675e-03\n",
      " -3.6767549e-03 -5.4806718e-03  7.1111871e-03 -1.5686249e-02\n",
      "  1.1643657e-02  1.3460820e-02 -1.9507328e-02 -8.9567211e-03\n",
      "  2.3553821e-03 -1.1278507e-02  8.3850035e-03  3.8418544e-03\n",
      "  1.3512379e-02  5.0798249e-03 -4.8243497e-03  4.4742492e-03\n",
      "  8.7707164e-03 -1.7422220e-02 -1.1294096e-02  6.2296316e-03\n",
      "  9.9072617e-04 -3.4879493e-03 -3.1338097e-03 -6.6646063e-03\n",
      " -4.8486837e-03  1.0086044e-02 -4.5110248e-03  9.3712034e-03\n",
      "  4.2181133e-04  5.2759964e-03  3.6687218e-03 -6.3010100e-03\n",
      " -3.9507812e-03  7.5223316e-03  2.3669638e-03 -3.7395969e-04\n",
      "  8.5679675e-03  2.4606945e-04  3.2915242e-03  4.2807339e-03\n",
      " -3.9112736e-03  5.6383023e-03  3.2942039e-03  1.3137410e-02\n",
      " -6.8483886e-04 -3.3734012e-03  3.4134407e-03 -1.0849346e-03\n",
      "  2.6363016e-03 -3.4055673e-03  4.3757190e-04  4.8535080e-03\n",
      " -8.5847834e-03 -2.0126144e-03 -1.6058877e-02 -4.7761044e-03\n",
      "  1.8467670e-02  1.4765406e-02  1.0198383e-03  1.2338444e-03\n",
      " -8.3842985e-03 -1.9318149e-03  2.4599866e-03 -1.1579799e-03\n",
      "  8.0760379e-05 -7.2407988e-03 -2.0235993e-03 -1.9148560e-03\n",
      " -1.6879431e-03 -1.9792384e-03 -7.8899208e-03  4.4776947e-04\n",
      " -3.8303125e-03 -6.3269297e-03  7.8854626e-03 -1.0703017e-02\n",
      "  7.3975050e-03 -1.0910143e-02 -9.9751987e-03 -4.3866788e-03\n",
      " -6.1374418e-03 -4.0407055e-03  5.2096569e-03  8.6374544e-03\n",
      "  7.1445028e-03 -4.8842072e-03 -1.0773016e-02  1.4036797e-03\n",
      "  1.6841726e-02 -3.1345633e-03  8.1413100e-03  3.8883882e-03\n",
      "  4.7060649e-04 -2.1928085e-03  8.7133488e-03  8.1567261e-03]\n"
     ]
    }
   ],
   "execution_count": 6
  },
  {
   "metadata": {},
   "cell_type": "markdown",
   "source": "Bengali model",
   "id": "f5d1ad61bab337a9"
  },
  {
   "metadata": {
    "ExecuteTime": {
     "end_time": "2024-06-24T06:35:56.736543Z",
     "start_time": "2024-06-24T06:35:54.563084Z"
    }
   },
   "cell_type": "code",
   "source": [
    "# Train the model\n",
    "model = fasttext.train_supervised(input=\"bengali_train.txt\", epoch=25, lr=1.0, wordNgrams=2, verbose=2, minCount=1)\n",
    "\n",
    "# Save the model\n",
    "model.save_model(\"bengali_model_fasttext.bin\")"
   ],
   "id": "53f74de166110325",
   "outputs": [],
   "execution_count": 19
  },
  {
   "metadata": {
    "ExecuteTime": {
     "end_time": "2024-06-24T06:36:38.505451Z",
     "start_time": "2024-06-24T06:36:37.336881Z"
    }
   },
   "cell_type": "code",
   "source": [
    "# Load the model\n",
    "model = fasttext.load_model(\"bengali_model_fasttext.bin\")\n",
    "\n",
    "# Test the model with a sample sentence\n",
    "test_sentence = \"আমি এই সিনেমাটি পছন্দ\"\n",
    "result = model.predict(test_sentence)\n",
    "print(f\"Sentence: {test_sentence}\")\n",
    "print(f\"Prediction: {result[0][0]}, Confidence: {result[1][0]}\")"
   ],
   "id": "771895c01ddb8c92",
   "outputs": [
    {
     "name": "stdout",
     "output_type": "stream",
     "text": [
      "Sentence: আমি এই সিনেমাটি পছন্দ\n",
      "Prediction: __label__positive, Confidence: 0.7902048230171204\n"
     ]
    }
   ],
   "execution_count": 22
  },
  {
   "metadata": {
    "ExecuteTime": {
     "end_time": "2024-06-24T06:39:18.381160Z",
     "start_time": "2024-06-24T06:39:18.374306Z"
    }
   },
   "cell_type": "code",
   "source": "model.get_nearest_neighbors(\"পছন্দ\")",
   "id": "728bd5e47edcad19",
   "outputs": [
    {
     "data": {
      "text/plain": [
       "[(0.9750226736068726, 'ঘৃণা'),\n",
       " (0.9741357564926147, 'খারাপ'),\n",
       " (0.9741349220275879, 'করি'),\n",
       " (0.9740620255470276, 'বাজে'),\n",
       " (0.973273754119873, 'না'),\n",
       " (0.9731624722480774, 'একদম'),\n",
       " (0.9696402549743652, 'একেবারেই'),\n",
       " (0.9572229385375977, 'গানটি'),\n",
       " (0.925864040851593, 'দিনটি'),\n",
       " (0.9041745066642761, 'আজকের')]"
      ]
     },
     "execution_count": 33,
     "metadata": {},
     "output_type": "execute_result"
    }
   ],
   "execution_count": 33
  }
 ],
 "metadata": {
  "kernelspec": {
   "display_name": "Python 3",
   "language": "python",
   "name": "python3"
  },
  "language_info": {
   "codemirror_mode": {
    "name": "ipython",
    "version": 2
   },
   "file_extension": ".py",
   "mimetype": "text/x-python",
   "name": "python",
   "nbconvert_exporter": "python",
   "pygments_lexer": "ipython2",
   "version": "2.7.6"
  }
 },
 "nbformat": 4,
 "nbformat_minor": 5
}
