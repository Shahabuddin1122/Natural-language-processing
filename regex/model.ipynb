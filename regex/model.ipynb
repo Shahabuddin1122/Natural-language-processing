{
 "cells": [
  {
   "cell_type": "code",
   "id": "initial_id",
   "metadata": {
    "collapsed": true,
    "ExecuteTime": {
     "end_time": "2024-05-06T16:26:57.061381Z",
     "start_time": "2024-05-06T16:26:57.036899Z"
    }
   },
   "source": "import re",
   "outputs": [],
   "execution_count": 1
  },
  {
   "metadata": {
    "ExecuteTime": {
     "end_time": "2024-05-06T16:46:02.450070Z",
     "start_time": "2024-05-06T16:46:02.436107Z"
    }
   },
   "cell_type": "code",
   "source": [
    "text = \"\"\"H-1)NLTK (Natural Language Toolkit): NLTK is a leading platform for building Python programs to work with human language data. It provides easy-to-use interfaces to over 50 corpora and lexical resources, such as WordNet, along with a suite of text processing libraries for classification, tokenization, stemming, tagging, parsing, and semantic reasoning.\n",
    "H-2)spaCy: spaCy is a modern and fast NLP library for Python. It is designed to be efficient, and it offers pre-trained models for various NLP tasks such as named entity recognition, part-of-speech tagging, dependency parsing, and text classification. spaCy also provides support for customizing and training models.\n",
    "H-3)Hugging Face Transformers: Transformers is a deep learning library released by Hugging Face that provides state-of-the-art implementations of various transformer-based models for NLP tasks. It includes popular models like BERT, GPT, RoBERTa, and many others. The library allows easy integration and fine-tuning of these models for specific tasks.\"\"\""
   ],
   "id": "29593a07efa344c2",
   "outputs": [],
   "execution_count": 11
  },
  {
   "metadata": {
    "ExecuteTime": {
     "end_time": "2024-05-06T16:46:03.534535Z",
     "start_time": "2024-05-06T16:46:03.520523Z"
    }
   },
   "cell_type": "code",
   "source": [
    "patterns = 'H-\\d\\)([^:]+)'\n",
    "re.findall(patterns,text)"
   ],
   "id": "5404c544b4f8751b",
   "outputs": [
    {
     "data": {
      "text/plain": [
       "['NLTK (Natural Language Toolkit)', 'spaCy', 'Hugging Face Transformers']"
      ]
     },
     "execution_count": 12,
     "metadata": {},
     "output_type": "execute_result"
    }
   ],
   "execution_count": 12
  },
  {
   "metadata": {},
   "cell_type": "code",
   "outputs": [],
   "execution_count": null,
   "source": "",
   "id": "22a1167f008e2289"
  }
 ],
 "metadata": {
  "kernelspec": {
   "display_name": "Python 3",
   "language": "python",
   "name": "python3"
  },
  "language_info": {
   "codemirror_mode": {
    "name": "ipython",
    "version": 2
   },
   "file_extension": ".py",
   "mimetype": "text/x-python",
   "name": "python",
   "nbconvert_exporter": "python",
   "pygments_lexer": "ipython2",
   "version": "2.7.6"
  }
 },
 "nbformat": 4,
 "nbformat_minor": 5
}
